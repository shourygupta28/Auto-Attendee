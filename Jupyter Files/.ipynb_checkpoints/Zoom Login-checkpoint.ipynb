{
 "cells": [
  {
   "cell_type": "markdown",
   "metadata": {},
   "source": [
    "# Your Time Table"
   ]
  },
  {
   "cell_type": "code",
   "execution_count": 1,
   "metadata": {},
   "outputs": [],
   "source": [
    "import time\n",
    "from datetime import datetime\n",
    "# from pynput.keyboard import Controller, Key\n",
    "import web# from data import lst\n",
    "browser\n",
    "import calendar\n",
    "import csv\n",
    "from pynotifier import Notification\n",
    "from playsound import playsound\n",
    "my_date = datetime.today()"
   ]
  },
  {
   "cell_type": "code",
   "execution_count": 2,
   "metadata": {},
   "outputs": [
    {
     "name": "stdout",
     "output_type": "stream",
     "text": [
      "[['https://tiet.zoom.us/j/4859929922?_x_zm_rtaid=eimSCaGyQU-MHSD89cTQdw.1596773451370.7e01edc1cfa68d59966f250c5cfef01d&_x_zm_rhtaid=313#', '16:51', '16:52', 'Friday', 'https://ada-lms.thapar.edu/moodle/course/view.php?id=154', 'No'], ['https://tiet.zoom.us/j/4859929922?_x_zm_rtaid=eimSCaGyQU-MHSD89cTQdw.1596773451370.7e01edc1cfa68d59966f250c5cfef01d&_x_zm_rhtaid=313#', '16:53', '16:54', 'Friday', 'https://ada-lms.thapar.edu/moodle/course/view.php?id=154', 'Yes']]\n"
     ]
    }
   ],
   "source": [
    "with open('Schedule.csv', newline='') as f:\n",
    "    reader = csv.reader(f)\n",
    "    lst = list(reader)\n",
    "lst.remove(lst[0])\n",
    "# for i in range(len(lst)):\n",
    "#     lst[i].remove(lst[i][-1])\n",
    "# for j in range(len(lst)):\n",
    "#     if lst[j-1][0] == '':\n",
    "#         lst.remove(lst[j-1])\n",
    "print(lst)"
   ]
  },
  {
   "cell_type": "code",
   "execution_count": 3,
   "metadata": {},
   "outputs": [],
   "source": [
    "# lst = [\n",
    "#     [\"https://tiet.zoom.us/j/2516810949?_x_zm_rtaid=ZsxlvbvpRsyJg69i_BCMPA.1596249009260.4b795d220418eb53ca1b671b81595cb1&_x_zm_rhtaid=650#\", \"21:57\", \"21:58\", \"Wednesday\"]\n",
    "# ]"
   ]
  },
  {
   "cell_type": "code",
   "execution_count": 4,
   "metadata": {},
   "outputs": [],
   "source": [
    "def labtutnotify():\n",
    "    i = 1\n",
    "    while i <= 4:\n",
    "        try:\n",
    "            Notification(\n",
    "            title='You have have a LAB/TUT',\n",
    "            description='Bro, Please Lab/Tut toh laga le!',\n",
    "            icon_path='winicon.ico', # On Windows .ico is required, on Linux - .png\n",
    "            duration=10,                              # Duration in seconds\n",
    "            urgency=Notification.URGENCY_CRITICAL\n",
    "            ).send()\n",
    "        except:\n",
    "            Notification(\n",
    "            title='You have have a LAB/TUT',\n",
    "            description='Kuch toh sharam kro!',\n",
    "            icon_path='winicon.ico', # On Windows .ico is required, on Linux - .png\n",
    "            duration=10,                              # Duration in seconds\n",
    "            urgency=Notification.URGENCY_CRITICAL\n",
    "            ).send()\n",
    "        playsound('Alien_Siren-KevanGC-610357990.mp3')\n",
    "        time.sleep(5)\n",
    "        i += 1     "
   ]
  },
  {
   "cell_type": "code",
   "execution_count": null,
   "metadata": {},
   "outputs": [],
   "source": [
    "#labtutnotify()\n",
    "# for i in lst:\n",
    "#     print(i[-1])"
   ]
  },
  {
   "cell_type": "code",
   "execution_count": 5,
   "metadata": {},
   "outputs": [
    {
     "name": "stdout",
     "output_type": "stream",
     "text": [
      "['https://tiet.zoom.us/j/4859929922?_x_zm_rtaid=eimSCaGyQU-MHSD89cTQdw.1596773451370.7e01edc1cfa68d59966f250c5cfef01d&_x_zm_rhtaid=313#', '16:51', '16:52', 'Friday', 'https://ada-lms.thapar.edu/moodle/course/view.php?id=154', 'No']\n",
      "['https://tiet.zoom.us/j/4859929922?_x_zm_rtaid=eimSCaGyQU-MHSD89cTQdw.1596773451370.7e01edc1cfa68d59966f250c5cfef01d&_x_zm_rhtaid=313#', '16:53', '16:54', 'Friday', 'https://ada-lms.thapar.edu/moodle/course/view.php?id=154', 'Yes']\n",
      "Day Complete\n"
     ]
    }
   ],
   "source": [
    "# keyboard = Controller()\n",
    "\n",
    "isStarted = False\n",
    "\n",
    "for i in lst:\n",
    "    print(i)\n",
    "    while True:\n",
    "        #print('1')\n",
    "        if isStarted == False:\n",
    "            #print('2')\n",
    "            if datetime.now().hour == int(i[1].split(':')[0]) and datetime.now().minute == int(i[1].split(':')[1]) and calendar.day_name[my_date.weekday()] == i[3]:\n",
    "                #print('3')\n",
    "                webbrowser.open(i[0])\n",
    "                if i[-1] == \"Yes\":\n",
    "                    #print('4')\n",
    "                    labtutnotify()\n",
    "                isStarted = True\n",
    "            elif datetime.now().hour == int(i[1].split(':')[0]):\n",
    "                #print('5')\n",
    "                if datetime.now().minute > int(i[1].split(':')[1]) and calendar.day_name[my_date.weekday()] == i[3]:\n",
    "                    #print('6')\n",
    "                    isStarted = False\n",
    "                    break\n",
    "            elif datetime.now().hour > int(i[1].split(':')[0]):\n",
    "                if calendar.day_name[my_date.weekday()] == i[3]:\n",
    "                    #print('10')\n",
    "                    isStarted = False\n",
    "                    break\n",
    "            elif calendar.day_name[my_date.weekday()] != i[3]:\n",
    "                isStarted = False\n",
    "                break\n",
    "        elif isStarted == True:\n",
    "            #print('7')\n",
    "            if datetime.now().hour == int(i[2].split(':')[0]) and datetime.now().minute == int(i[2].split(':')[1]) and calendar.day_name[my_date.weekday()] == i[3]:\n",
    "                #print('8')\n",
    "                #keyboard.press('w')\n",
    "                time.sleep(1)\n",
    "                #keyboard.press(Key.enter)\n",
    "                isStarted = False\n",
    "                break\n",
    "    #print('9')\n",
    "print('Day Complete')"
   ]
  },
  {
   "cell_type": "code",
   "execution_count": null,
   "metadata": {},
   "outputs": [],
   "source": []
  },
  {
   "cell_type": "code",
   "execution_count": null,
   "metadata": {},
   "outputs": [],
   "source": []
  }
 ],
 "metadata": {
  "kernelspec": {
   "display_name": "Python 3",
   "language": "python",
   "name": "python3"
  },
  "language_info": {
   "codemirror_mode": {
    "name": "ipython",
    "version": 3
   },
   "file_extension": ".py",
   "mimetype": "text/x-python",
   "name": "python",
   "nbconvert_exporter": "python",
   "pygments_lexer": "ipython3",
   "version": "3.7.6"
  }
 },
 "nbformat": 4,
 "nbformat_minor": 4
}
